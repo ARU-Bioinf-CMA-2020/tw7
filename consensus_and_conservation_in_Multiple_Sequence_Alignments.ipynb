{
 "cells": [
  {
   "cell_type": "markdown",
   "metadata": {},
   "source": [
    "# Calculating consensus and conservation scores from a Multiple Sequence Alignment\n",
    "\n",
    "Methods for assembling multiple sequence alignments have been described in the lecture. Here the application of conservation measures to the resulting MSA is considered. \n",
    "\n",
    "Similarity measures need a substitution table which can be a matrix or as here as a Python dictionary of dictionaries. \n",
    "\n",
    "Gap penalties will also need to be considered for the MSA. And for some sequence comparisons n an MSA there can be a gap aligned with a gap.\n",
    "\n",
    "Here is the BLOSUM62 matrix:"
   ]
  },
  {
   "cell_type": "code",
   "execution_count": 10,
   "metadata": {},
   "outputs": [],
   "source": [
    "BLOSUM62 = {'A':{'A': 4,'R':-1,'N':-2,'D':-2,'C': 0,'Q':-1,'E':-1,'G': 0,'H':-2,'I':-1,\n",
    "                 'L':-1,'K':-1,'M':-1,'F':-2,'P':-1,'S': 1,'T': 0,'W':-3,'Y':-2,'V': 0},\n",
    "            'R':{'A':-1,'R': 5,'N': 0,'D':-2,'C':-3,'Q': 1,'E': 0,'G':-2,'H': 0,'I':-3,\n",
    "                 'L':-2,'K': 2,'M':-1,'F':-3,'P':-2,'S':-1,'T':-1,'W':-3,'Y':-2,'V':-3},\n",
    "            'N':{'A':-2,'R': 0,'N': 6,'D': 1,'C':-3,'Q': 0,'E': 0,'G': 0,'H': 1,'I':-3,\n",
    "                 'L':-3,'K': 0,'M':-2,'F':-3,'P':-2,'S': 1,'T': 0,'W':-4,'Y':-2,'V':-3},\n",
    "            'D':{'A':-2,'R':-2,'N': 1,'D': 6,'C':-3,'Q': 0,'E': 2,'G':-1,'H':-1,'I':-3,\n",
    "                 'L':-4,'K':-1,'M':-3,'F':-3,'P':-1,'S': 0,'T':-1,'W':-4,'Y':-3,'V':-3},\n",
    "            'C':{'A': 0,'R':-3,'N':-3,'D':-3,'C': 9,'Q':-3,'E':-4,'G':-3,'H':-3,'I':-1,\n",
    "                 'L':-1,'K':-3,'M':-1,'F':-2,'P':-3,'S':-1,'T':-1,'W':-2,'Y':-2,'V':-1},\n",
    "            'Q':{'A':-1,'R': 1,'N': 0,'D': 0,'C':-3,'Q': 5,'E': 2,'G':-2,'H': 0,'I':-3,\n",
    "                 'L':-2,'K': 1,'M': 0,'F':-3,'P':-1,'S': 0,'T':-1,'W':-2,'Y':-1,'V':-2},\n",
    "            'E':{'A':-1,'R': 0,'N': 0,'D': 2,'C':-4,'Q': 2,'E': 5,'G':-2,'H': 0,'I':-3,\n",
    "                 'L':-3,'K': 1,'M':-2,'F':-3,'P':-1,'S': 0,'T':-1,'W':-3,'Y':-2,'V':-2},\n",
    "            'G':{'A': 0,'R':-2,'N': 0,'D':-1,'C':-3,'Q':-2,'E':-2,'G': 6,'H':-2,'I':-4,\n",
    "                 'L':-4,'K':-2,'M':-3,'F':-3,'P':-2,'S': 0,'T':-2,'W':-2,'Y':-3,'V':-3},\n",
    "            'H':{'A':-2,'R': 0,'N': 1,'D':-1,'C':-3,'Q': 0,'E': 0,'G':-2,'H': 8,'I':-3,\n",
    "                 'L':-3,'K':-1,'M':-2,'F':-1,'P':-2,'S':-1,'T':-2,'W':-2,'Y': 2,'V':-3},\n",
    "            'I':{'A':-1,'R':-3,'N':-3,'D':-3,'C':-1,'Q':-3,'E':-3,'G':-4,'H':-3,'I': 4,\n",
    "                 'L': 2,'K':-3,'M': 1,'F': 0,'P':-3,'S':-2,'T':-1,'W':-3,'Y':-1,'V': 3},\n",
    "            'L':{'A':-1,'R':-2,'N':-3,'D':-4,'C':-1,'Q':-2,'E':-3,'G':-4,'H':-3,'I': 2,\n",
    "                 'L': 4,'K':-2,'M': 2,'F': 0,'P':-3,'S':-2,'T':-1,'W':-2,'Y':-1,'V': 1},\n",
    "            'K':{'A':-1,'R': 2,'N': 0,'D':-1,'C':-3,'Q': 1,'E': 1,'G':-2,'H':-1,'I':-3,\n",
    "                 'L':-2,'K': 5,'M':-1,'F':-3,'P':-1,'S': 0,'T':-1,'W':-3,'Y':-2,'V':-2},\n",
    "            'M':{'A':-1,'R':-1,'N':-2,'D':-3,'C':-1,'Q': 0,'E':-2,'G':-3,'H':-2,'I': 1,\n",
    "                 'L': 2,'K':-1,'M': 5,'F': 0,'P':-2,'S':-1,'T':-1,'W':-1,'Y':-1,'V': 1},\n",
    "            'F':{'A':-2,'R':-3,'N':-3,'D':-3,'C':-2,'Q':-3,'E':-3,'G':-3,'H':-1,'I': 0,\n",
    "                 'L': 0,'K':-3,'M': 0,'F': 6,'P':-4,'S':-2,'T':-2,'W': 1,'Y': 3,'V':-1},\n",
    "            'P':{'A':-1,'R':-2,'N':-2,'D':-1,'C':-3,'Q':-1,'E':-1,'G':-2,'H':-2,'I':-3,\n",
    "                 'L':-3,'K':-1,'M':-2,'F':-4,'P': 7,'S':-1,'T':-1,'W':-4,'Y':-3,'V':-2},\n",
    "            'S':{'A': 1,'R':-1,'N': 1,'D': 0,'C':-1,'Q': 0,'E': 0,'G': 0,'H':-1,'I':-2,\n",
    "                 'L':-2,'K': 0,'M':-1,'F':-2,'P':-1,'S': 4,'T': 1,'W':-3,'Y':-2,'V':-2},\n",
    "            'T':{'A': 0,'R':-1,'N': 0,'D':-1,'C':-1,'Q':-1,'E':-1,'G':-2,'H':-2,'I':-1,\n",
    "                 'L':-1,'K':-1,'M':-1,'F':-2,'P':-1,'S': 1,'T': 5,'W':-2,'Y':-2,'V': 0},\n",
    "            'W':{'A':-3,'R':-3,'N':-4,'D':-4,'C':-2,'Q':-2,'E':-3,'G':-2,'H':-2,'I':-3,\n",
    "                 'L':-2,'K':-3,'M':-1,'F': 1,'P':-4,'S':-3,'T':-2,'W':11,'Y': 2,'V':-3},\n",
    "            'Y':{'A':-2,'R':-2,'N':-2,'D':-3,'C':-2,'Q':-1,'E':-2,'G':-3,'H': 2,'I':-1,\n",
    "                 'L':-1,'K':-2,'M':-1,'F': 3,'P':-3,'S':-2,'T':-2,'W': 2,'Y': 7,'V':-1},\n",
    "            'V':{'A': 0,'R':-3,'N':-3,'D':-3,'C':-1,'Q':-2,'E':-2,'G':-3,'H':-3,'I': 3,\n",
    "                 'L': 1,'K':-2,'M': 1,'F':-1,'P':-2,'S':-2,'T': 0,'W':-3,'Y':-1,'V': 4}\n",
    "           }\n",
    "\n"
   ]
  },
  {
   "cell_type": "markdown",
   "metadata": {},
   "source": [
    "For MSAs a pairwise similarity measure can be calculated by summing the scores at each position from the substitution table. Remember that the summing is actually equivalent to multiplying the chances of possible changes (or conservation). But that the odds for these have been made into logs which can be added. \n",
    "\n",
    "Here is a function to use the dictionary values."
   ]
  },
  {
   "cell_type": "code",
   "execution_count": 11,
   "metadata": {},
   "outputs": [],
   "source": [
    "def calcPairwiseSimilarity(seqA, seqB, substTable):\n",
    "    \"\"\"\"\"\n",
    "    calculate similarity from start\n",
    "    \"\"\"\"\"\n",
    "    numPositions = min(len(seqA), len(seqB))\n",
    "  \n",
    "    totalScore = 0\n",
    "  \n",
    "    for position in range(numPositions):\n",
    "    \n",
    "        resA = seqA[position]\n",
    "        resB = seqB[position]\n",
    "    totalScore += substTable[resA][resB]\n",
    "\n",
    "    return totalScore\n"
   ]
  },
  {
   "cell_type": "code",
   "execution_count": 12,
   "metadata": {},
   "outputs": [],
   "source": [
    "firstSeq = 'TTCCPSIVARSNFNVCRLPGTPEALCATYTGCIIIPGATCPGDYAN' \n",
    "secondSeq = 'KSCCPTTAARNQYNICRLPGTPRPVCAALSGCKIISGTGCPPGYRH'"
   ]
  },
  {
   "cell_type": "code",
   "execution_count": 13,
   "metadata": {},
   "outputs": [
    {
     "name": "stdout",
     "output_type": "stream",
     "text": [
      "1\n"
     ]
    }
   ],
   "source": [
    "pairwise = calcPairwiseSimilarity(firstSeq, secondSeq, BLOSUM62)\n",
    "print(pairwise)"
   ]
  },
  {
   "cell_type": "markdown",
   "metadata": {},
   "source": [
    "To get the overall score for a multiple sequence alignment, every pair would be taken in turn from the alignment. \n",
    "\n",
    "Pairs from multiple alignments can have gaps in either sequences in the pair. But also possibly gaps in both sequences.\n",
    "\n",
    "So modify the function to give a score of -1 for a single gap '-'. And a score of 0 for a gap in each sequence aligned with each other. Since two such gaps come from matching other pairs in the multiple sequence alignments they are given a score of 0."
   ]
  },
  {
   "cell_type": "code",
   "execution_count": null,
   "metadata": {},
   "outputs": [],
   "source": [
    "###your code here\n"
   ]
  },
  {
   "cell_type": "markdown",
   "metadata": {},
   "source": [
    "### Sequence profile\n",
    "Several uses for a sequence profile have been mentioned: searching a database, or standing in for a group of sequences in a multiple sequence alignment fro example.\n",
    "\n",
    "As an example for a profile calculation, here is a small multiple sequence alignment. It is from a BLAST search for sequences similar to the firstSeq above. This was taken from a small robust protein from plant seeds called CRAMBIN."
   ]
  },
  {
   "cell_type": "code",
   "execution_count": 14,
   "metadata": {},
   "outputs": [],
   "source": [
    "alignment = ['TTCCPSIVARSNFNVCRLPGTPEALCATYTGCIIIPGATCPGDYAN',\n",
    "             'KSCCPTTAARNQYNICRLPGTPRPVCAALSGCKIISGTGCPPGYRH',\n",
    "             'KSCCPTTTARNIYNTCRFGGGSRPVCAKLSGCKIISGTKCDSGWNH',\n",
    "             'NICCPSIQARTFYNACLFAVGSPSSCIRNSSCLDISESTCPRGYTN',\n",
    "             'KSCCRNTLARNCYNACRFTGGSQPTCGILCDCIHVTTTTCPSSHPS',\n",
    "             'KSCCRSTLGRNCYNLCRVRGAQ-KLCANACRCKLTSGLKCPSSFPK',\n",
    "             'KSCCRSTLGRNCYNLCRVRGAQ-KLCAGVCRCKLTSSGKCPTGFPK',\n",
    "             'KICCPSNQARNGYSVCRIRF-SKGRCMQVSGCQ--NSDTCPRGWVN']"
   ]
  },
  {
   "cell_type": "markdown",
   "metadata": {},
   "source": [
    "Here is a function to go through the columns of the alignment and make a sequence profile. The profile has. for each column in the MSA, a dictionary of residues types and the values for the fraction of the sequences containing them."
   ]
  },
  {
   "cell_type": "code",
   "execution_count": 17,
   "metadata": {},
   "outputs": [],
   "source": [
    "def profile(alignment):\n",
    "    \"\"\"\"\"\n",
    "    calculate profile from an alignement\n",
    "    \"\"\"\"\"\n",
    "    columns = len(alignment[0])\n",
    "    nSeq = float(len(alignment))\n",
    "    prof = []  \n",
    "    for index in range(columns):\n",
    "        counts = {}\n",
    "        for seq in alignment:\n",
    "            letter = seq[index]\n",
    "            if letter == '-':\n",
    "                continue\n",
    "    \n",
    "            counts[letter] = counts.get(letter, 0) + 1\n",
    "    \n",
    "        for letter in counts:\n",
    "            counts[letter] /= nSeq    \n",
    "        prof.append(counts)\n",
    "    return prof"
   ]
  },
  {
   "cell_type": "markdown",
   "metadata": {},
   "source": [
    "Here is an example of the first item in the crambin alignment profile."
   ]
  },
  {
   "cell_type": "code",
   "execution_count": 18,
   "metadata": {},
   "outputs": [
    {
     "name": "stdout",
     "output_type": "stream",
     "text": [
      "{'T': 0.125, 'S': 0.625, 'I': 0.25}\n"
     ]
    }
   ],
   "source": [
    "exampleProfile = profile(alignment)\n",
    "print(exampleProfile[1])"
   ]
  },
  {
   "cell_type": "markdown",
   "metadata": {},
   "source": [
    "### Consensus sequence\n",
    "The consensus sequence is the majority vote for residue type at each position. For large alignments with many sequences the majority might just be two outvoting 19 other different residues - so not really significant. So it makes sense to have a threshold below which values are not taken to be significant. Here it is set at 50%. The consensus sequence could also be calculated from the alignment profile. But here, more simply, the alignment is processed."
   ]
  },
  {
   "cell_type": "code",
   "execution_count": 62,
   "metadata": {},
   "outputs": [],
   "source": [
    "def consensus(alignment, threshold=0.50):\n",
    "    \"\"\"\"\"\n",
    "    calculates a consensus sequence from\n",
    "    a multiple sequence alignment \n",
    "    \"\"\"\"\"\n",
    "    numColumns = len(alignment[0])\n",
    "    nSeq = len(alignment)\n",
    "    consensus = ''\n",
    "\n",
    "    for i in range(numColumns):\n",
    "        counts = {}\n",
    "\n",
    "        for seq in alignment:\n",
    "            letter = seq[i]\n",
    "            if letter == '-':\n",
    "                continue\n",
    "    \n",
    "            counts[letter] = counts.get(letter, 0) + 1\n",
    "    \n",
    "        fractions = []\n",
    "        for letter in counts:\n",
    "            frac = counts[letter]/nSeq\n",
    "            fractions.append([frac, letter])\n",
    "      \n",
    "        fractions.sort()\n",
    "        bestFraction, bestLetter = fractions[-1]\n",
    "    \n",
    "        if bestFraction <  threshold:\n",
    "            consensus += 'X'\n",
    "    \n",
    "        else:\n",
    "            consensus += bestLetter\n",
    "\n",
    "    return consensus\n"
   ]
  },
  {
   "cell_type": "markdown",
   "metadata": {},
   "source": [
    "Use the consensus function to display the consensus sequence under the alignment shown earlier."
   ]
  },
  {
   "cell_type": "code",
   "execution_count": 63,
   "metadata": {},
   "outputs": [
    {
     "name": "stdout",
     "output_type": "stream",
     "text": [
      "KSCCPSTXARNXYNXCRXXGXSXXXCAXXSGCKXISGXTCPXGXXX\n"
     ]
    }
   ],
   "source": [
    "##your code here"
   ]
  },
  {
   "cell_type": "markdown",
   "metadata": {},
   "source": [
    "The consensus sequence is a simple count that can isolate the key features of a sequence alignment - it might help identify a motif in a family of sequences for example. \n",
    "\n",
    "However a better assessement of conservation and substitution would be to use Substitution table values. These can be applied to the set of residues in each column available in a profile.  \n",
    "\n",
    "The following function gets a Conservation measure for each column in a multiple sequence alignment by making a profile then sorting the residues at each position in the profile. "
   ]
  },
  {
   "cell_type": "code",
   "execution_count": 82,
   "metadata": {},
   "outputs": [],
   "source": [
    "def getConservation(align, substTable):\n",
    "    \"\"\"\"\"\n",
    "    calculates the degree of conservation\n",
    "    at each position in a multiple sequence alignment \n",
    "    \"\"\"\"\"\n",
    "    conservation = []\n",
    "    profileAlignment = profile(align)\n",
    "  \n",
    "    for freqDict in profileAlignment:\n",
    "    \n",
    "        items = list(freqDict.items()) \n",
    "\n",
    "        items.sort( key=lambda x: x[1] )\n",
    "        \n",
    "        score = 0.0\n",
    "    \n",
    "        for resA, compA in items:\n",
    "            for resB, compB in items:\n",
    "                score += compA * compB * substTable[resA][resB]\n",
    " \n",
    "        bestLetter = items[-1][0]\n",
    "        maxScore = substTable[bestLetter][bestLetter]\n",
    "   \n",
    "        score /= maxScore\n",
    "        conservation.append(score)\n",
    "  \n",
    "    return conservation"
   ]
  },
  {
   "cell_type": "markdown",
   "metadata": {},
   "source": [
    "One common way to show conservation is to add a special final line below the alignment with symbols indicating increasing degrees of conservation. The symbols '*', ':', and '.' are commonly used to indicate perfect, high and moderate conservation respectively. No significant conservation will just be a space."
   ]
  },
  {
   "cell_type": "code",
   "execution_count": 72,
   "metadata": {},
   "outputs": [],
   "source": [
    "def makeSimilarityLine(align, substTable, thresholds):\n",
    "    \"\"\"\"\"\n",
    "    makses a line of characters to stand for \n",
    "    the degree of conservation in a multiple\n",
    "    sequence alignment\n",
    "    \"\"\"\"\"\n",
    "    simString = ''\n",
    "    conservation = getConservation(align, substTable)\n",
    "    t1, t2, t3 = thresholds\n",
    "  \n",
    "    for score in conservation:\n",
    "        \n",
    "        if score >= t1:\n",
    "            symbol = '*'\n",
    "        elif score > t2:\n",
    "            symbol = ':'\n",
    "        elif score > t3: \n",
    "            symbol = '.'\n",
    "        else:\n",
    "            symbol = ' '\n",
    "        simString += symbol\n",
    "    return simString\n"
   ]
  },
  {
   "cell_type": "code",
   "execution_count": 85,
   "metadata": {},
   "outputs": [
    {
     "name": "stdout",
     "output_type": "stream",
     "text": [
      "TTCCPSIVARSNFNVCRLPGTPEALCATYTGCIIIPGATCPGDYAN\n",
      "KSCCPTTAARNQYNICRLPGTPRPVCAALSGCKIISGTGCPPGYRH\n",
      "KSCCPTTTARNIYNTCRFGGGSRPVCAKLSGCKIISGTKCDSGWNH\n",
      "NICCPSIQARTFYNACLFAVGSPSSCIRNSSCLDISESTCPRGYTN\n",
      "KSCCRNTLARNCYNACRFTGGSQPTCGILCDCIHVTTTTCPSSHPS\n",
      "KSCCRSTLGRNCYNLCRVRGAQ-KLCANACRCKLTSGLKCPSSFPK\n",
      "KSCCRSTLGRNCYNLCRVRGAQ-KLCAGVCRCKLTSSGKCPTGFPK\n",
      "KICCPSNQARNGYSVCRIRF-SKGRCMQVSGCQ--NSDTCPRGWVN\n",
      ":.**.:. :*: ::.*:. . .   *.  . *  ..   *: .. .\n"
     ]
    }
   ],
   "source": [
    "conservationLine = makeSimilarityLine(alignment, BLOSUM62, (0.9,0.5,0.25))\n",
    "for seq in alignment:\n",
    "    print(seq)\n",
    "print(conservationLine)"
   ]
  },
  {
   "cell_type": "markdown",
   "metadata": {},
   "source": [
    "Some common residues are not considered significantly conserved even when they are the majority in the consensus."
   ]
  },
  {
   "cell_type": "markdown",
   "metadata": {},
   "source": [
    "**Optional question**\n",
    "### Sum of pairs scoring for a multiple alignment\n",
    "Sum of pairs scoring is a scoring function for a multiple sequence alignment. This is a common measure for the quality of a multiple sequence alignment. It is the overall conservation that the alignment has managed to maximize. This is worked out for all the pairs of residues for every pairing of the sequences.\n",
    "\n",
    "So for an alignment:\n",
    "\n",
    "    ADEH\n",
    "    B-FI\n",
    "    C-G-\n",
    "\n",
    "for the first column it is the sum of substTable[A][B] + substTable[A][C]  + substTable[B][C].\n",
    "\n",
    "For the second column it is the sum of gapPenalty[D,-] + gapPenalty[D,-] + 0 (as two gaps aligned are set to 0).\n",
    "\n",
    "For the third column it is substTable[H][I] + gappenalty[H,-]  + gappenalty[I,-]\n",
    "\n",
    "Obviously the gap penalties will be negative values and the same regardless of the character being compared with it.\n",
    "\n",
    "The total score is the sum of these totals of pairwise scores for each column in the alignment. Notice that it depends on the number of sequences so it is not for comparison of different alignments. It is for comparing different possible answers from the alignment process for a single set of sequences. \n",
    "\n",
    "This is a useful target for the alignment algorithm to try to maximize. \n",
    "\n",
    "\n",
    "Can you write a function to calculate the total score for the Crambin Alignment?"
   ]
  },
  {
   "cell_type": "code",
   "execution_count": null,
   "metadata": {},
   "outputs": [],
   "source": []
  }
 ],
 "metadata": {
  "kernelspec": {
   "display_name": "Python 3",
   "language": "python",
   "name": "python3"
  },
  "language_info": {
   "codemirror_mode": {
    "name": "ipython",
    "version": 3
   },
   "file_extension": ".py",
   "mimetype": "text/x-python",
   "name": "python",
   "nbconvert_exporter": "python",
   "pygments_lexer": "ipython3",
   "version": "3.7.4"
  }
 },
 "nbformat": 4,
 "nbformat_minor": 2
}
